{
  "nbformat": 4,
  "nbformat_minor": 0,
  "metadata": {
    "colab": {
      "name": "K-means Regresi Linear.ipynb",
      "provenance": []
    },
    "kernelspec": {
      "name": "python3",
      "display_name": "Python 3"
    },
    "language_info": {
      "name": "python"
    }
  },
  "cells": [
    {
      "cell_type": "code",
      "metadata": {
        "colab": {
          "base_uri": "https://localhost:8080/"
        },
        "id": "2q5md16ju6Vo",
        "outputId": "128b0553-1855-4f05-b334-223c503a09f4"
      },
      "source": [
        "import sklearn.linear_model as lm\n",
        "import pandas as pd\n",
        "data=pd.read_csv(\"pizza.csv\")\n",
        "print(data)"
      ],
      "execution_count": null,
      "outputs": [
        {
          "output_type": "stream",
          "text": [
            "    rec  x1    x2      y\n",
            "0     1   2  0.50   9.95\n",
            "1     1   8  1.10  24.45\n",
            "2     1  11  1.20  31.75\n",
            "3     1  10  5.50  35.00\n",
            "4     1   8  2.95  25.02\n",
            "5     1   4  2.00  16.86\n",
            "6     1   2  3.75  14.38\n",
            "7     1   2  0.52   9.60\n",
            "8     1   9  1.00  24.35\n",
            "9     1   8  3.00  27.50\n",
            "10    1  14  4.12  17.08\n",
            "11    1  11  4.00  37.00\n",
            "12    1  12  5.00  41.95\n",
            "13    1   2  3.60  11.66\n",
            "14    1   4  2.05  21.65\n",
            "15    1   4  4.00  17.89\n",
            "16    1  20  6.00  69.00\n",
            "17    1   1  5.85  10.30\n",
            "18    1  10  5.40  34.93\n",
            "19    1  15  2.50  46.59\n",
            "20    1  15  2.90  44.88\n",
            "21    1  16  5.10  54.12\n",
            "22    1  17  5.90  56.23\n",
            "23    1   6  1.00  22.13\n",
            "24    1   5  4.00  21.15\n"
          ],
          "name": "stdout"
        }
      ]
    },
    {
      "cell_type": "code",
      "metadata": {
        "colab": {
          "base_uri": "https://localhost:8080/"
        },
        "id": "sqoRcwPuu9XQ",
        "outputId": "9a4febcb-62b7-494c-ba81-9d6b77b727c1"
      },
      "source": [
        "var_index=['x1','x2']\n",
        "x=data[var_index]\n",
        "print(x)"
      ],
      "execution_count": null,
      "outputs": [
        {
          "output_type": "stream",
          "text": [
            "    x1    x2\n",
            "0    2  0.50\n",
            "1    8  1.10\n",
            "2   11  1.20\n",
            "3   10  5.50\n",
            "4    8  2.95\n",
            "5    4  2.00\n",
            "6    2  3.75\n",
            "7    2  0.52\n",
            "8    9  1.00\n",
            "9    8  3.00\n",
            "10  14  4.12\n",
            "11  11  4.00\n",
            "12  12  5.00\n",
            "13   2  3.60\n",
            "14   4  2.05\n",
            "15   4  4.00\n",
            "16  20  6.00\n",
            "17   1  5.85\n",
            "18  10  5.40\n",
            "19  15  2.50\n",
            "20  15  2.90\n",
            "21  16  5.10\n",
            "22  17  5.90\n",
            "23   6  1.00\n",
            "24   5  4.00\n"
          ],
          "name": "stdout"
        }
      ]
    },
    {
      "cell_type": "code",
      "metadata": {
        "colab": {
          "base_uri": "https://localhost:8080/"
        },
        "id": "4Ir7WEkcvCGS",
        "outputId": "6586a13d-8f07-4711-c20a-4c1325da560d"
      },
      "source": [
        "y=data['y']\n",
        "print(y)"
      ],
      "execution_count": null,
      "outputs": [
        {
          "output_type": "stream",
          "text": [
            "0      9.95\n",
            "1     24.45\n",
            "2     31.75\n",
            "3     35.00\n",
            "4     25.02\n",
            "5     16.86\n",
            "6     14.38\n",
            "7      9.60\n",
            "8     24.35\n",
            "9     27.50\n",
            "10    17.08\n",
            "11    37.00\n",
            "12    41.95\n",
            "13    11.66\n",
            "14    21.65\n",
            "15    17.89\n",
            "16    69.00\n",
            "17    10.30\n",
            "18    34.93\n",
            "19    46.59\n",
            "20    44.88\n",
            "21    54.12\n",
            "22    56.23\n",
            "23    22.13\n",
            "24    21.15\n",
            "Name: y, dtype: float64\n"
          ],
          "name": "stdout"
        }
      ]
    },
    {
      "cell_type": "code",
      "metadata": {
        "colab": {
          "base_uri": "https://localhost:8080/"
        },
        "id": "ChVDYG7zvUN3",
        "outputId": "7600d848-d456-456d-f693-165424cacbdd"
      },
      "source": [
        "lr=lm.LinearRegression()\n",
        "lr.fit(x,y)\n",
        "print(\"coef:\",lr.coef_)"
      ],
      "execution_count": null,
      "outputs": [
        {
          "output_type": "stream",
          "text": [
            "coef: [2.51542374 1.23997126]\n"
          ],
          "name": "stdout"
        }
      ]
    },
    {
      "cell_type": "code",
      "metadata": {
        "colab": {
          "base_uri": "https://localhost:8080/"
        },
        "id": "V6zLoHTPvW93",
        "outputId": "61fa5cb5-fe0a-4163-a11f-4745c764ed90"
      },
      "source": [
        "print(\"intercept\",lr.intercept_)"
      ],
      "execution_count": null,
      "outputs": [
        {
          "output_type": "stream",
          "text": [
            "intercept 3.169810241507406\n"
          ],
          "name": "stdout"
        }
      ]
    },
    {
      "cell_type": "code",
      "metadata": {
        "colab": {
          "base_uri": "https://localhost:8080/"
        },
        "id": "WBHWkLRRvdZt",
        "outputId": "0bddc1af-1784-45b5-befc-1257c31b1419"
      },
      "source": [
        "print(\"persamaan regresi yg didapat:\")\n",
        "print(\"y = {0:.2f} + {0:.2f} {0:.2f}\".format(lr.intercept_,lr.coef_[0],lr.coef_[1]))\n",
        "print(\"y = {} + {} {}\".format(lr.intercept_,lr.coef_[0],lr.coef_[1]))"
      ],
      "execution_count": null,
      "outputs": [
        {
          "output_type": "stream",
          "text": [
            "persamaan regresi yg didapat:\n",
            "y = 3.17 + 3.17 3.17\n",
            "y = 3.169810241507406 + 2.515423740298575 1.2399712570270385\n"
          ],
          "name": "stdout"
        }
      ]
    },
    {
      "cell_type": "code",
      "metadata": {
        "colab": {
          "base_uri": "https://localhost:8080/"
        },
        "id": "iNnCIwXM0J0Y",
        "outputId": "95d94135-f7c6-4370-ec29-975eb40c32c8"
      },
      "source": [
        "import pandas as pd\n",
        "import numpy as np\n",
        "\n",
        "data=pd.read_csv(\"pizza.csv\")\n",
        "print(data)"
      ],
      "execution_count": null,
      "outputs": [
        {
          "output_type": "stream",
          "text": [
            "    rec  x1    x2      y\n",
            "0     1   2  0.50   9.95\n",
            "1     1   8  1.10  24.45\n",
            "2     1  11  1.20  31.75\n",
            "3     1  10  5.50  35.00\n",
            "4     1   8  2.95  25.02\n",
            "5     1   4  2.00  16.86\n",
            "6     1   2  3.75  14.38\n",
            "7     1   2  0.52   9.60\n",
            "8     1   9  1.00  24.35\n",
            "9     1   8  3.00  27.50\n",
            "10    1  14  4.12  17.08\n",
            "11    1  11  4.00  37.00\n",
            "12    1  12  5.00  41.95\n",
            "13    1   2  3.60  11.66\n",
            "14    1   4  2.05  21.65\n",
            "15    1   4  4.00  17.89\n",
            "16    1  20  6.00  69.00\n",
            "17    1   1  5.85  10.30\n",
            "18    1  10  5.40  34.93\n",
            "19    1  15  2.50  46.59\n",
            "20    1  15  2.90  44.88\n",
            "21    1  16  5.10  54.12\n",
            "22    1  17  5.90  56.23\n",
            "23    1   6  1.00  22.13\n",
            "24    1   5  4.00  21.15\n"
          ],
          "name": "stdout"
        }
      ]
    },
    {
      "cell_type": "code",
      "metadata": {
        "colab": {
          "base_uri": "https://localhost:8080/"
        },
        "id": "M5RR1oVU0s7c",
        "outputId": "bdb581e2-cf46-4a4c-9951-028d0d0d81b7"
      },
      "source": [
        "data2=data.to_numpy()\n",
        "\n",
        "print(data2)"
      ],
      "execution_count": null,
      "outputs": [
        {
          "output_type": "stream",
          "text": [
            "[[ 1.    2.    0.5   9.95]\n",
            " [ 1.    8.    1.1  24.45]\n",
            " [ 1.   11.    1.2  31.75]\n",
            " [ 1.   10.    5.5  35.  ]\n",
            " [ 1.    8.    2.95 25.02]\n",
            " [ 1.    4.    2.   16.86]\n",
            " [ 1.    2.    3.75 14.38]\n",
            " [ 1.    2.    0.52  9.6 ]\n",
            " [ 1.    9.    1.   24.35]\n",
            " [ 1.    8.    3.   27.5 ]\n",
            " [ 1.   14.    4.12 17.08]\n",
            " [ 1.   11.    4.   37.  ]\n",
            " [ 1.   12.    5.   41.95]\n",
            " [ 1.    2.    3.6  11.66]\n",
            " [ 1.    4.    2.05 21.65]\n",
            " [ 1.    4.    4.   17.89]\n",
            " [ 1.   20.    6.   69.  ]\n",
            " [ 1.    1.    5.85 10.3 ]\n",
            " [ 1.   10.    5.4  34.93]\n",
            " [ 1.   15.    2.5  46.59]\n",
            " [ 1.   15.    2.9  44.88]\n",
            " [ 1.   16.    5.1  54.12]\n",
            " [ 1.   17.    5.9  56.23]\n",
            " [ 1.    6.    1.   22.13]\n",
            " [ 1.    5.    4.   21.15]]\n"
          ],
          "name": "stdout"
        }
      ]
    },
    {
      "cell_type": "code",
      "metadata": {
        "colab": {
          "base_uri": "https://localhost:8080/"
        },
        "id": "2sNLSM3g06lm",
        "outputId": "aef3c15d-1d88-49d9-8210-58dd886a6391"
      },
      "source": [
        "X=data2[:,0:3]\n",
        "\n",
        "print(X)"
      ],
      "execution_count": null,
      "outputs": [
        {
          "output_type": "stream",
          "text": [
            "[[ 1.    2.    0.5 ]\n",
            " [ 1.    8.    1.1 ]\n",
            " [ 1.   11.    1.2 ]\n",
            " [ 1.   10.    5.5 ]\n",
            " [ 1.    8.    2.95]\n",
            " [ 1.    4.    2.  ]\n",
            " [ 1.    2.    3.75]\n",
            " [ 1.    2.    0.52]\n",
            " [ 1.    9.    1.  ]\n",
            " [ 1.    8.    3.  ]\n",
            " [ 1.   14.    4.12]\n",
            " [ 1.   11.    4.  ]\n",
            " [ 1.   12.    5.  ]\n",
            " [ 1.    2.    3.6 ]\n",
            " [ 1.    4.    2.05]\n",
            " [ 1.    4.    4.  ]\n",
            " [ 1.   20.    6.  ]\n",
            " [ 1.    1.    5.85]\n",
            " [ 1.   10.    5.4 ]\n",
            " [ 1.   15.    2.5 ]\n",
            " [ 1.   15.    2.9 ]\n",
            " [ 1.   16.    5.1 ]\n",
            " [ 1.   17.    5.9 ]\n",
            " [ 1.    6.    1.  ]\n",
            " [ 1.    5.    4.  ]]\n"
          ],
          "name": "stdout"
        }
      ]
    },
    {
      "cell_type": "code",
      "metadata": {
        "colab": {
          "base_uri": "https://localhost:8080/"
        },
        "id": "EIg_JvU71BQq",
        "outputId": "a30c0196-b4aa-46fc-f9ba-b96828a91805"
      },
      "source": [
        "Y=data2[:,3]\n",
        "\n",
        "print(Y)"
      ],
      "execution_count": null,
      "outputs": [
        {
          "output_type": "stream",
          "text": [
            "[ 9.95 24.45 31.75 35.   25.02 16.86 14.38  9.6  24.35 27.5  17.08 37.\n",
            " 41.95 11.66 21.65 17.89 69.   10.3  34.93 46.59 44.88 54.12 56.23 22.13\n",
            " 21.15]\n"
          ],
          "name": "stdout"
        }
      ]
    },
    {
      "cell_type": "code",
      "metadata": {
        "colab": {
          "base_uri": "https://localhost:8080/"
        },
        "id": "BdEfWCBL1N3h",
        "outputId": "fc62da30-8036-47e7-f637-450c6b079718"
      },
      "source": [
        "Xt=X.transpose()\n",
        "\n",
        "print(Xt)"
      ],
      "execution_count": null,
      "outputs": [
        {
          "output_type": "stream",
          "text": [
            "[[ 1.    1.    1.    1.    1.    1.    1.    1.    1.    1.    1.    1.\n",
            "   1.    1.    1.    1.    1.    1.    1.    1.    1.    1.    1.    1.\n",
            "   1.  ]\n",
            " [ 2.    8.   11.   10.    8.    4.    2.    2.    9.    8.   14.   11.\n",
            "  12.    2.    4.    4.   20.    1.   10.   15.   15.   16.   17.    6.\n",
            "   5.  ]\n",
            " [ 0.5   1.1   1.2   5.5   2.95  2.    3.75  0.52  1.    3.    4.12  4.\n",
            "   5.    3.6   2.05  4.    6.    5.85  5.4   2.5   2.9   5.1   5.9   1.\n",
            "   4.  ]]\n"
          ],
          "name": "stdout"
        }
      ]
    },
    {
      "cell_type": "code",
      "metadata": {
        "colab": {
          "base_uri": "https://localhost:8080/"
        },
        "id": "JWrAULhN1UNl",
        "outputId": "8072b930-02f4-42c8-8590-8789725d28e3"
      },
      "source": [
        "XtX=Xt.dot(X)\n",
        "\n",
        "print(XtX)"
      ],
      "execution_count": null,
      "outputs": [
        {
          "output_type": "stream",
          "text": [
            "[[  25.      216.       82.94  ]\n",
            " [ 216.     2576.      812.97  ]\n",
            " [  82.94    812.97    353.1848]]\n"
          ],
          "name": "stdout"
        }
      ]
    },
    {
      "cell_type": "code",
      "metadata": {
        "colab": {
          "base_uri": "https://localhost:8080/"
        },
        "id": "Iv4y_nME1f0N",
        "outputId": "29ea8998-456a-4929-b613-a37ae6dfff8a"
      },
      "source": [
        "XtI=np.linalg.inv(XtX)\n",
        "\n",
        "print(XtI)"
      ],
      "execution_count": null,
      "outputs": [
        {
          "output_type": "stream",
          "text": [
            "[[ 0.21599448 -0.00768933 -0.03302346]\n",
            " [-0.00768933  0.00169281 -0.00209084]\n",
            " [-0.03302346 -0.00209084  0.01539918]]\n"
          ],
          "name": "stdout"
        }
      ]
    },
    {
      "cell_type": "code",
      "metadata": {
        "colab": {
          "base_uri": "https://localhost:8080/"
        },
        "id": "Tpaoty6d13HN",
        "outputId": "f14c4474-8035-4ec4-d1ed-5ebdf9ca56be"
      },
      "source": [
        "XtY=Xt.dot(Y)\n",
        "\n",
        "print(XtY)"
      ],
      "execution_count": null,
      "outputs": [
        {
          "output_type": "stream",
          "text": [
            "[ 725.42   8172.47   2745.8071]\n"
          ],
          "name": "stdout"
        }
      ]
    },
    {
      "cell_type": "code",
      "metadata": {
        "colab": {
          "base_uri": "https://localhost:8080/"
        },
        "id": "9LyFnYUN1_0L",
        "outputId": "4794a224-3ec4-44f5-d319-748eb7ad87a2"
      },
      "source": [
        "b=XtI.dot(XtY)\n",
        "\n",
        "print(b)"
      ],
      "execution_count": null,
      "outputs": [
        {
          "output_type": "stream",
          "text": [
            "[3.16981024 2.51542374 1.23997126]\n"
          ],
          "name": "stdout"
        }
      ]
    },
    {
      "cell_type": "code",
      "metadata": {
        "colab": {
          "base_uri": "https://localhost:8080/"
        },
        "id": "GmlHncNu2ICp",
        "outputId": "5db0aec7-3195-44b5-a792-52e6dbc658cf"
      },
      "source": [
        "print(\"y = {} + {} {}\".format(b[0],b[1],b[2]))"
      ],
      "execution_count": null,
      "outputs": [
        {
          "output_type": "stream",
          "text": [
            "y = 3.1698102415073715 + 2.5154237402985773 1.2399712570270325\n"
          ],
          "name": "stdout"
        }
      ]
    }
  ]
}